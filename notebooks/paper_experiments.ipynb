{
 "cells": [
  {
   "cell_type": "markdown",
   "metadata": {},
   "source": [
    "# Code for reproducing the tables and figures from the paper"
   ]
  },
  {
   "cell_type": "markdown",
   "metadata": {},
   "source": [
    "## General setup\n",
    "\n",
    "Importing library, loading data, configuring plotting etc."
   ]
  },
  {
   "cell_type": "code",
   "execution_count": null,
   "metadata": {},
   "outputs": [],
   "source": [
    "%matplotlib inline\n",
    "import matplotlib.pyplot as plt\n",
    "import matplotlib_inline.backend_inline\n",
    "import plotly.express as px\n",
    "from plotly import graph_objects as go\n",
    "from plotly.subplots import make_subplots\n",
    "\n",
    "matplotlib_inline.backend_inline.set_matplotlib_formats(\"svg\")\n",
    "plt.style.use(\"seaborn-darkgrid\")"
   ]
  },
  {
   "cell_type": "code",
   "execution_count": null,
   "metadata": {},
   "outputs": [],
   "source": [
    "import sys\n",
    "\n",
    "sys.path = list(set(sys.path))\n",
    "# sys.path.remove(\"/Users/thales/src/instagram-time-splits\")\n",
    "sys.path.append(\"..\")"
   ]
  },
  {
   "cell_type": "code",
   "execution_count": null,
   "metadata": {},
   "outputs": [],
   "source": [
    "DF_POSTS_PATH = \"../data/df_posts_lite.pkl\"\n",
    "DF_PROFILES_PATH = \"../data/df_profiles.pkl\""
   ]
  },
  {
   "cell_type": "code",
   "execution_count": null,
   "metadata": {},
   "outputs": [],
   "source": [
    "import pandas as pd\n",
    "\n",
    "df_posts = pd.read_pickle(DF_POSTS_PATH)\n",
    "df_profiles = pd.read_pickle(DF_PROFILES_PATH)"
   ]
  },
  {
   "cell_type": "code",
   "execution_count": null,
   "metadata": {},
   "outputs": [],
   "source": [
    "df_posts[\"is_sponsored\"] = (df_posts.predicted_disclosure) | (df_posts.has_disclosures)\n",
    "df_posts[\"sponsorship_type\"] = df_posts.apply(lambda x: \"disclosed\" if x.has_disclosures else \"undisclosed\" if x.predicted_disclosure else \"non-sponsored\", axis=1)\n",
    "# df[\"dt_year_mon\"] = df.date.apply(lambda x: f\"{x.split()[0].split('-')[0]}/{x.split()[0].split('-')[1]}\")\n",
    "df_posts[\"engagement\"] = (df_posts.likes + df_posts.comments)"
   ]
  },
  {
   "cell_type": "code",
   "execution_count": null,
   "metadata": {},
   "outputs": [],
   "source": [
    "from src import utils\n",
    "from importlib import reload\n",
    "\n",
    "reload(utils)"
   ]
  },
  {
   "cell_type": "markdown",
   "metadata": {},
   "source": [
    "## Table 1"
   ]
  },
  {
   "cell_type": "markdown",
   "metadata": {},
   "source": [
    "### Setup"
   ]
  },
  {
   "cell_type": "code",
   "execution_count": null,
   "metadata": {},
   "outputs": [],
   "source": [
    "user_post_counts = df_posts.groupby(\"username\").size()\n",
    "df_profiles[\"n_posts\"] = df_profiles.username.map(user_post_counts)"
   ]
  },
  {
   "cell_type": "markdown",
   "metadata": {},
   "source": []
  },
  {
   "cell_type": "code",
   "execution_count": null,
   "metadata": {},
   "outputs": [],
   "source": [
    "from src.utils import display_formatted\n",
    "\n",
    "#\n",
    "profile_per_country = (\n",
    "    df_profiles.groupby([\"country\", \"size\"])\n",
    "    .agg(\n",
    "        {\"followers\": \"mean\", \"is_verified\": lambda x: (x == True).sum() / len(x) * 100}\n",
    "    )\n",
    "    .T\n",
    ")\n",
    "posts_per_country = (\n",
    "    df_posts.groupby([\"country\", \"size\"])\n",
    "    .agg({\"shortcode\": lambda x: x.count() / 50, \"likes\": \"mean\", \"comments\": \"mean\"})\n",
    "    .T\n",
    ")\n",
    "\n"
   ]
  },
  {
   "cell_type": "code",
   "execution_count": null,
   "metadata": {},
   "outputs": [],
   "source": [
    "display_formatted(pd.concat([profile_per_country, posts_per_country]), precision=1)"
   ]
  },
  {
   "cell_type": "markdown",
   "metadata": {},
   "source": [
    "## Table 2"
   ]
  },
  {
   "cell_type": "markdown",
   "metadata": {},
   "source": [
    "Stats aggregated dataset"
   ]
  },
  {
   "cell_type": "code",
   "execution_count": null,
   "metadata": {},
   "outputs": [],
   "source": [
    "agg_profile = (\n",
    "    df_profiles.groupby(\"size\")\n",
    "    .agg(\n",
    "        {\"followers\": \"mean\", \"is_verified\": lambda x: (x == True).sum() / len(x) * 100}\n",
    "    )\n",
    "    .T\n",
    ")\n",
    "agg_posts = (\n",
    "    df_posts.groupby(\"size\")\n",
    "    .agg({\"shortcode\": lambda x: x.count() / 50, \"likes\": \"mean\", \"comments\": \"mean\"})\n",
    "    .T\n",
    ")\n",
    "all_column_profile = df_profiles[[\"followers\", \"is_verified\"]].mean()\n",
    "all_column_post = df_posts[[\"likes\", \"comments\"]].mean()\n",
    "all_column = pd.concat([all_column_profile, all_column_post])\n",
    "all_column[\"shortcode\"] = df_posts[\"shortcode\"].count()\n",
    "all_column[\"is_verified\"] = all_column[\"is_verified\"] * 100"
   ]
  },
  {
   "cell_type": "code",
   "execution_count": null,
   "metadata": {},
   "outputs": [],
   "source": [
    "agg_df = pd.concat([agg_profile, agg_posts])\n",
    "agg_df[\"All\"] = all_column\n",
    "display_formatted(agg_df, precision=1)"
   ]
  },
  {
   "cell_type": "markdown",
   "metadata": {},
   "source": [
    "## Figure 8"
   ]
  },
  {
   "cell_type": "code",
   "execution_count": null,
   "metadata": {},
   "outputs": [],
   "source": [
    "sorted_dt = (\n",
    "    df_posts.groupby([\"dt_year_mon\", \"has_disclosures\"])\n",
    "    .engagement.mean()\n",
    "    .sort_index()\n",
    "    .unstack()\n",
    "    .fillna(0)\n",
    "    .stack()\n",
    ")\n",
    "dt_freq = (\n",
    "    pd.DataFrame(sorted_dt)\n",
    "    .rename({0: \"engagement\"}, axis=1)\n",
    "    .reset_index()\n",
    "    .rename({\"dt_year_mon\": \"date\"}, axis=1)\n",
    ")\n",
    "dt_freq[\"has_disclosures\"] = dt_freq.has_disclosures.apply(\n",
    "    lambda x: \"Sponsored\" if x else \"Non-disclosed\"\n",
    ")\n",
    "\n",
    "# Smooth time series with a 3-month window\n",
    "window_size = 3\n",
    "dt_freq_smoothed = (\n",
    "    dt_freq.set_index(\"date\")\n",
    "    .groupby(\"has_disclosures\")\n",
    "    .rolling(window_size, min_periods=1)\n",
    "    .mean()\n",
    "    .reset_index()\n",
    ")\n",
    "# smoothed_line is actually the normal line, I just changed what dt each line is plotting\n",
    "fig = go.Figure()\n",
    "smoothed_line = px.line(\n",
    "    dt_freq,\n",
    "    x=\"date\",\n",
    "    y=\"engagement\",\n",
    "    color=\"has_disclosures\",\n",
    "    labels={\n",
    "        \"date\": \"Date (year/month)\",\n",
    "        \"engagement\": \"Engagement\",\n",
    "        \"has_disclosures\": \"\",\n",
    "    },\n",
    "    category_orders={\"has_disclosures\": [\"Non-disclosed\", \"Sponsored\"]},\n",
    ")\n",
    "smoothed_line.data[0].line.update(dash=\"dot\")\n",
    "smoothed_line.data[0].showlegend = False\n",
    "smoothed_line.data[0].line.color = \"#838bfb\"\n",
    "smoothed_line.data[1].line.update(dash=\"dot\")\n",
    "smoothed_line.data[1].showlegend = False\n",
    "smoothed_line.data[1].line.color = \"#f48571\"\n",
    "fig.add_traces(smoothed_line.data)\n",
    "# fig.update_traces(patch={\"line\": {\"dash\": \"dot\"}})\n",
    "fig.add_trace(\n",
    "    px.line(dt_freq_smoothed, x=\"date\", y=\"engagement\", color=\"has_disclosures\").data[0]\n",
    ")\n",
    "fig.add_trace(\n",
    "    px.line(dt_freq_smoothed, x=\"date\", y=\"engagement\", color=\"has_disclosures\").data[1]\n",
    ")\n",
    "fig.update_layout(\n",
    "    legend=dict(yanchor=\"top\", y=0.99, xanchor=\"left\", x=0.01, font=dict(size=14))\n",
    ")\n",
    "fig.update_layout(xaxis_title=\"Date (year/month)\", yaxis_title=\"Engagement\")\n",
    "fig.update_layout(yaxis=dict(tickfont=dict(size=14), titlefont=dict(size=18)))\n",
    "fig.update_layout(xaxis=dict(tickfont=dict(size=14), titlefont=dict(size=18)))\n",
    "fig.show()\n",
    "# fig.write_image(\"../figures/engagement_disc_nonspons.pdf\")#, width=1800, height=600)"
   ]
  },
  {
   "cell_type": "markdown",
   "metadata": {},
   "source": [
    "## Figure 9"
   ]
  },
  {
   "cell_type": "code",
   "execution_count": null,
   "metadata": {},
   "outputs": [],
   "source": [
    "import numpy as np\n",
    "\n",
    "def compute_cdf(data):\n",
    "    sorted_data = np.sort(data)\n",
    "    cdf_values = np.arange(1, len(sorted_data) + 1) / len(sorted_data)\n",
    "    return sorted_data, cdf_values\n",
    "\n",
    "\n",
    "\n",
    "# Extract engagements for both sponsored and non-disclosed posts\n",
    "sponsored_engagements = df_posts[df_posts[\"has_disclosures\"]][\"engagement\"]\n",
    "nondisclosed_engagements = df_posts[~df_posts[\"has_disclosures\"]][\"engagement\"]\n",
    "\n",
    "# Compute CDF for both types of posts\n",
    "sponsored_sorted, sponsored_cdf = compute_cdf(sponsored_engagements)\n",
    "nondisclosed_sorted, nondisclosed_cdf = compute_cdf(nondisclosed_engagements)\n",
    "\n",
    "# upper_limit_sponsored = np.percentile(sponsored_engagements, 99)\n",
    "# upper_limit_nondisclosed = np.percentile(nondisclosed_engagements, 99)\n",
    "# upper_limit = max(upper_limit_sponsored, upper_limit_nondisclosed)\n",
    "\n",
    "# Plotting\n",
    "cdf_fig = go.Figure()\n",
    "cdf_fig.add_trace(\n",
    "    go.Scatter(x=sponsored_sorted, y=sponsored_cdf, mode=\"lines\", name=\"Sponsored\")\n",
    ")\n",
    "cdf_fig.add_trace(\n",
    "    go.Scatter(\n",
    "        x=nondisclosed_sorted, y=nondisclosed_cdf, mode=\"lines\", name=\"Non-disclosed\"\n",
    "    )\n",
    ")\n",
    "\n",
    "cdf_fig.update_layout(\n",
    "    legend=dict(yanchor=\"top\", y=0.99, xanchor=\"left\", x=0.01, font=dict(size=14)),\n",
    "    xaxis_title=\"Engagement (log scale)\",\n",
    "    yaxis_title=\"CDF\",\n",
    "    yaxis=dict(tickfont=dict(size=14), titlefont=dict(size=18)),\n",
    "    xaxis=dict(\n",
    "        type=\"log\", # setting the x-axis to logarithmic scale\n",
    "        tickfont=dict(size=14), \n",
    "        titlefont=dict(size=18)\n",
    "    ),\n",
    ")\n",
    "\n",
    "cdf_fig.show()\n",
    "# cdf_fig.write_image(\"../figures/engagement_cdf_disc_nonspons.pdf\")#, width=1800, height=600)"
   ]
  },
  {
   "cell_type": "code",
   "execution_count": null,
   "metadata": {},
   "outputs": [],
   "source": []
  },
  {
   "cell_type": "markdown",
   "metadata": {},
   "source": [
    "## Table 5"
   ]
  },
  {
   "cell_type": "code",
   "execution_count": null,
   "metadata": {},
   "outputs": [],
   "source": [
    "top10_brands_mega = pd.Series(\n",
    "    df_posts.query(\"size == 'mega' and content_sponsor != ''\")\n",
    "    .content_sponsor.value_counts()[:10]\n",
    "    .index,\n",
    "    name=\"mega\",\n",
    ")\n",
    "top10_brands_micro = pd.Series(\n",
    "    df_posts.query(\"size == 'micro' and content_sponsor != ''\")\n",
    "    .content_sponsor.value_counts()[:10]\n",
    "    .index,\n",
    "    name=\"micro\",\n",
    ")\n",
    "print(pd.concat([top10_brands_micro, top10_brands_mega], axis=1).to_latex())"
   ]
  },
  {
   "cell_type": "markdown",
   "metadata": {},
   "source": [
    "## Table 6"
   ]
  },
  {
   "cell_type": "code",
   "execution_count": null,
   "metadata": {},
   "outputs": [],
   "source": [
    "top10_brands_per_country = [\n",
    "    pd.Series(\n",
    "        df_posts.query(f\"country == '{country}' and content_sponsor != ''\")\n",
    "        .content_sponsor.value_counts()[:10]\n",
    "        .index,\n",
    "        name=country,\n",
    "    )\n",
    "    for country in df_posts.country.unique()\n",
    "]\n",
    "print(pd.concat(top10_brands_per_country, axis=1).to_latex())"
   ]
  },
  {
   "cell_type": "markdown",
   "metadata": {},
   "source": [
    "## Figure 3"
   ]
  },
  {
   "cell_type": "code",
   "execution_count": null,
   "metadata": {},
   "outputs": [],
   "source": [
    "countries_df = []\n",
    "years_df = []\n",
    "ht = []\n",
    "kw = []\n",
    "ad = []\n",
    "\n",
    "years = sorted(df_posts.year.unique())\n",
    "\n",
    "for c in df_posts.country.unique():\n",
    "    for y in years:\n",
    "        countries_df.append(c)\n",
    "        years_df.append(y)\n",
    "        total_disclosures = (\n",
    "            len(\n",
    "                df_posts[\n",
    "                    (df_posts.country == c)\n",
    "                    & (df_posts.year == y)\n",
    "                    & (df_posts.has_disclosures)\n",
    "                ]\n",
    "            )\n",
    "            * 100\n",
    "        )\n",
    "        ht_freq = len(\n",
    "            df_posts[\n",
    "                (df_posts.country == c)\n",
    "                & (df_posts.year == y)\n",
    "                & (df_posts.has_sponsored_hashtags)\n",
    "                & (~df_posts.has_sponsored_keywords_no_ht)\n",
    "                & (~df_posts.is_ad)\n",
    "            ]\n",
    "        )\n",
    "        ht.append(ht_freq / total_disclosures * 100 if total_disclosures else 0)\n",
    "        kw_freq = len(\n",
    "            df_posts[\n",
    "                (df_posts.country == c)\n",
    "                & (df_posts.year == y)\n",
    "                & (~df_posts.has_sponsored_hashtags)\n",
    "                & (df_posts.has_sponsored_keywords_no_ht)\n",
    "                & (~df_posts.is_ad)\n",
    "            ]\n",
    "        )\n",
    "        kw.append(kw_freq / total_disclosures * 100 if total_disclosures else 0)\n",
    "        ad_freq = len(\n",
    "            df_posts[\n",
    "                (df_posts.country == c)\n",
    "                & (df_posts.year == y)\n",
    "                & (~df_posts.has_sponsored_hashtags)\n",
    "                & (~df_posts.has_sponsored_keywords_no_ht)\n",
    "                & (df_posts.is_ad)\n",
    "            ]\n",
    "        )\n",
    "        ad.append(ad_freq / total_disclosures * 100 if total_disclosures else 0)\n",
    "\n",
    "disclosure_features_year = pd.DataFrame(\n",
    "    {\"country\": countries_df, \"year\": years_df, \"HT\": ht, \"KW\": kw, \"AD\": ad}\n",
    ")\n",
    "\n",
    "# Create a plot with 4 subplots for each country\n",
    "fig = make_subplots(\n",
    "    rows=2,\n",
    "    cols=2,\n",
    "    subplot_titles=[k for k in disclosure_features_year.country.unique()],\n",
    ")\n",
    "\n",
    "for i, k in enumerate(disclosure_features_year.country.unique()):\n",
    "    for trace in px.area(\n",
    "        disclosure_features_year[\n",
    "            (disclosure_features_year.country == k)\n",
    "            & (disclosure_features_year.year > 2010)\n",
    "        ],\n",
    "        x=\"year\",\n",
    "        y=[\"HT\", \"KW\", \"AD\"],\n",
    "        labels={\n",
    "            \"value\": \"Percentage of disclosure type\",\n",
    "            \"variable\": \"Type of disclosure\",\n",
    "            \"country\": \"Country\",\n",
    "        },\n",
    "    ).data:\n",
    "        if i != 0:\n",
    "            trace.showlegend = False\n",
    "        fig.add_trace(trace, row=i // 2 + 1, col=i % 2 + 1)\n",
    "\n",
    "\n",
    "# fig.update_layout(\n",
    "#     legend=dict(yanchor=\"top\", y=0.99, xanchor=\"left\", x=0.01, font=dict(size=14)),\n",
    "#     xaxis_title=\"Engagement\",\n",
    "#     yaxis_title=\"Cumulative Proportion\",\n",
    "#     yaxis=dict(tickfont=dict(size=14), titlefont=dict(size=18)),\n",
    "# )\n",
    "title_font_size = 18\n",
    "tick_font_size = 18\n",
    "\n",
    "for i in range(1, 3):  # rows\n",
    "    for j in range(1, 3):  # cols\n",
    "        fig.update_xaxes(\n",
    "            titlefont=dict(size=title_font_size),\n",
    "            tickfont=dict(size=tick_font_size),\n",
    "            row=i,\n",
    "            col=j,\n",
    "        )\n",
    "        fig.update_yaxes(\n",
    "            titlefont=dict(size=title_font_size),\n",
    "            tickfont=dict(size=tick_font_size),\n",
    "            row=i,\n",
    "            col=j,\n",
    "        )\n",
    "\n",
    "# Update the font size of the subplot titles\n",
    "title_font_size = 24\n",
    "for annotation in fig[\"layout\"][\"annotations\"]:\n",
    "    annotation[\"font\"][\"size\"] = title_font_size\n",
    "\n",
    "\n",
    "fig.update_layout(\n",
    "    legend=dict(yanchor=\"top\", y=0.99, xanchor=\"left\", x=0.01, font=dict(size=14))\n",
    ")\n",
    "\n",
    "#\n",
    "# fig.show()"
   ]
  },
  {
   "cell_type": "markdown",
   "metadata": {},
   "source": [
    "## Figure 5"
   ]
  },
  {
   "cell_type": "code",
   "execution_count": null,
   "metadata": {},
   "outputs": [],
   "source": [
    "fig = make_subplots(\n",
    "    rows=1, cols=2, subplot_titles=[\"Non-sponsored posts\", \"Sponsored posts\"]\n",
    ")\n",
    "fig_non_sponsored = utils.plot_agg_timeseries(df[~df.has_disclosures], \"caption_len\")\n",
    "fig_non_sponsored.update_layout(yaxis_range=[0, 100])\n",
    "fig_sponsored = utils.plot_agg_timeseries(df[df.has_disclosures], \"caption_len\")\n",
    "for trace in fig_non_sponsored.data:\n",
    "    fig.add_trace(trace, row=1, col=1)\n",
    "for trace in fig_sponsored.data:\n",
    "    trace.showlegend = False\n",
    "    fig.add_trace(trace, row=1, col=2)\n",
    "\n",
    "fig.update_layout(\n",
    "    yaxis_range=[0, 90], xaxis_title=\"Date\", yaxis_title=\"Avg. caption length\", title=\"\"\n",
    ")\n",
    "title_font_size = 24\n",
    "tick_font_size = 18\n",
    "\n",
    "# Update x and y axes for both subplots\n",
    "fig.update_xaxes(\n",
    "    titlefont=dict(size=title_font_size), tickfont=dict(size=tick_font_size), col=1\n",
    ")\n",
    "fig.update_xaxes(\n",
    "    titlefont=dict(size=title_font_size), tickfont=dict(size=tick_font_size), col=2\n",
    ")\n",
    "\n",
    "fig.update_yaxes(\n",
    "    titlefont=dict(size=title_font_size), tickfont=dict(size=tick_font_size), col=1\n",
    ")\n",
    "fig.update_yaxes(\n",
    "    titlefont=dict(size=title_font_size), tickfont=dict(size=tick_font_size), col=2\n",
    ")\n",
    "\n",
    "# Update the font size of the subplot titles\n",
    "for annotation in fig[\"layout\"][\"annotations\"]:\n",
    "    annotation[\"font\"][\"size\"] = title_font_size\n",
    "\n",
    "fig.update_layout(\n",
    "    legend=dict(yanchor=\"top\", y=0.99, xanchor=\"left\", x=0.01, font=dict(size=18))\n",
    ")\n",
    "fig.show()\n",
    "# fig.write_image(\"../figures/caption_length_over_time.pdf\", width=1800, height=600)"
   ]
  }
 ],
 "metadata": {
  "kernelspec": {
   "display_name": ".venv",
   "language": "python",
   "name": "python3"
  },
  "language_info": {
   "codemirror_mode": {
    "name": "ipython",
    "version": 3
   },
   "file_extension": ".py",
   "mimetype": "text/x-python",
   "name": "python",
   "nbconvert_exporter": "python",
   "pygments_lexer": "ipython3",
   "version": "3.9.0"
  },
  "orig_nbformat": 4
 },
 "nbformat": 4,
 "nbformat_minor": 2
}
